{
 "cells": [
  {
   "cell_type": "code",
   "execution_count": 1,
   "id": "3eb6e8de",
   "metadata": {},
   "outputs": [],
   "source": [
    "import random\n",
    "import sys \n",
    "from os import system, name"
   ]
  },
  {
   "cell_type": "code",
   "execution_count": 2,
   "id": "2590df5c",
   "metadata": {},
   "outputs": [
    {
     "name": "stdout",
     "output_type": "stream",
     "text": [
      "Welcome to Number Guessing Game\n",
      "Program will generate a random number and you have to guess(between your given range) which number is that....\n",
      "Additional commands are : \n",
      "*********-1 for exit**********\n",
      "***play for restarting game***\n",
      "\n",
      "Your command(-1 or play) : play\n",
      "\n",
      "Enter start for range : 1\n",
      "Enter end for range : 50\n",
      "\n",
      "Enter your guess : 25\n",
      "\n",
      "Guess bigger number...\n",
      "chances remaining :  4\n",
      "\n",
      "Enter your guess : 35\n",
      "\n",
      "Guess smaller number...\n",
      "chances remaining :  3\n",
      "\n",
      "Enter your guess : 30\n",
      "\n",
      "Guess smaller number...\n",
      "chances remaining :  2\n",
      "\n",
      "Enter your guess : 28\n",
      "\n",
      "Guess smaller number...\n",
      "chances remaining :  1\n",
      "\n",
      "Enter your guess : 27\n",
      "\n",
      "Gotcha!!\n",
      "\n",
      "Your command(-1 or play) : -1\n"
     ]
    },
    {
     "ename": "SystemExit",
     "evalue": "You exited",
     "output_type": "error",
     "traceback": [
      "An exception has occurred, use %tb to see the full traceback.\n",
      "\u001b[1;31mSystemExit\u001b[0m\u001b[1;31m:\u001b[0m You exited\n"
     ]
    },
    {
     "name": "stderr",
     "output_type": "stream",
     "text": [
      "c:\\users\\hp\\appdata\\local\\programs\\python\\python39\\lib\\site-packages\\IPython\\core\\interactiveshell.py:3449: UserWarning: To exit: use 'exit', 'quit', or Ctrl-D.\n",
      "  warn(\"To exit: use 'exit', 'quit', or Ctrl-D.\", stacklevel=1)\n"
     ]
    }
   ],
   "source": [
    "def guessNumber():                                                      #Game logic\n",
    "    startNum = int(input(\"\\nEnter start for range : \"))\n",
    "    endNum = int(input(\"Enter end for range : \"))\n",
    "    number = random.randint(startNum, endNum)\n",
    "    guess = 0\n",
    "    chances = 5\n",
    "    while(chances != 0):\n",
    "        guess = int(input('\\nEnter your guess : '))\n",
    "        if(guess > number):\n",
    "            print('\\nGuess smaller number...')\n",
    "            chances-=1\n",
    "        elif(guess < number):\n",
    "            if(guess != -1):\n",
    "                print('\\nGuess bigger number...')\n",
    "                chances-=1\n",
    "        else:\n",
    "            print('\\nGotcha!!')\n",
    "            playCmd()\n",
    "        \n",
    "        if(chances == 0):\n",
    "            print(\"You lose, try again...\")\n",
    "            playCmd()\n",
    "        \n",
    "        if(guess == -1):\n",
    "            clearScr()\n",
    "            sys.exit(\"You exited\")\n",
    "        print(\"chances remaining : \",chances)\n",
    "\n",
    "def playCmd():                                                      #For user command for playing and exiting\n",
    "    cmd = input('\\nYour command(-1 or play) : ')\n",
    "    if(cmd == '-1'):\n",
    "        clearScr()\n",
    "        sys.exit('You exited')\n",
    "    elif(cmd == 'play'):\n",
    "        guessNumber()\n",
    "    else:print('Invalid command')\n",
    "\n",
    "def clearScr():                                                     #Code to clear screen after exit command\n",
    "    if name == 'nt':\n",
    "        _ = system('cls')\n",
    "    else:\n",
    "        _ = system('clear')\n",
    "\n",
    "print(\"Welcome to Number Guessing Game\")\n",
    "print(\"Program will generate a random number and you have to guess(between your given range) which number is that....\")\n",
    "print(\"Additional commands are : \")\n",
    "print(\"-1 for exit\".center(30, '*'))\n",
    "print(\"play for restarting game\".center(30, '*'))\n",
    "playCmd()"
   ]
  },
  {
   "cell_type": "code",
   "execution_count": null,
   "id": "a7bd1a85",
   "metadata": {},
   "outputs": [],
   "source": []
  }
 ],
 "metadata": {
  "kernelspec": {
   "display_name": "Python 3",
   "language": "python",
   "name": "python3"
  },
  "language_info": {
   "codemirror_mode": {
    "name": "ipython",
    "version": 3
   },
   "file_extension": ".py",
   "mimetype": "text/x-python",
   "name": "python",
   "nbconvert_exporter": "python",
   "pygments_lexer": "ipython3",
   "version": "3.9.1"
  }
 },
 "nbformat": 4,
 "nbformat_minor": 5
}
